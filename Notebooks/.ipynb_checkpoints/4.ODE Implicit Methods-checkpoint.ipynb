{
 "cells": [
  {
   "cell_type": "markdown",
   "metadata": {},
   "source": [
    "# Implicit Methods: Ordinary Differential Equation\n",
    "writen by Abhijeet Parida(a_parida@outlook.com)\n",
    "## Introduction\n",
    "\n",
    "Ordinary differential equations ([ODEs](https://en.wikipedia.org/wiki/Ordinary_differential_equation)) is a differential equation containing one or more functions of one independent variable and its derivatives. The term ordinary is used in contrast with the term partial differential equation which may be with respect to more than one independent variable.\n",
    "\n",
    "## Problem\n",
    "We again examine the same ODE as the previous notebook but with different parameters\n",
    "<p style=\"text-align: center;\">$ \\dot{p} = (1-(\\frac{p}{10}))*p$</p>\n",
    "and the initial condition is \n",
    "<p style=\"text-align: center;\">$ p(0)=20$</p>\n",
    "This gives the analytical solution of the ODE as\n",
    "<p style=\"text-align: center;\">$p(t) = \\frac{200}{20-10e^{-7t}}$</p>\n",
    "\n",
    "## Implicit Methods\n",
    "[Implicit methods](https://en.wikipedia.org/wiki/Explicit_and_implicit_methods) find a solution by solving an equation involving both the current state of the system and the later one. Mathematically, if $ Y(t)$ is the current system state and $ Y(t+\\Delta t) $is the state at the later time ( $ \\Delta t$ is a small time step),  an implicit method one solves an equation,\n",
    "\n",
    "<p style=\"text-align: center;\"> $G\\Big (Y(t),Y(t+\\Delta t)\\Big)=0$</p>\n",
    "to find $ Y(t+\\Delta t)$ .\n"
   ]
  },
  {
   "cell_type": "code",
   "execution_count": null,
   "metadata": {
    "collapsed": true
   },
   "outputs": [],
   "source": [
    "#import the required modules\n",
    "%matplotlib notebook\n",
    "import numpy as np\n",
    "import matplotlib.pyplot as plt\n",
    "from Plotter import *"
   ]
  },
  {
   "cell_type": "code",
   "execution_count": null,
   "metadata": {
    "collapsed": true
   },
   "outputs": [],
   "source": [
    "##Specify start stop and step of time\n",
    "tstart=0\n",
    "tend=5\n",
    "\n",
    "dt_all=[1/2, 1/4, 1/8,1/16]# dt \n",
    "\n",
    "#initial condition\n",
    "p0=20"
   ]
  },
  {
   "cell_type": "code",
   "execution_count": null,
   "metadata": {
    "collapsed": false
   },
   "outputs": [],
   "source": [
    "## Visualise the analytical solution\n",
    "t = np.arange(0,tend,dt_all[-1])\n",
    "p = 200/(20-(10*np.exp(-7*t)))\n",
    "plt.figure()\n",
    "plt.plot(t,p)\n",
    "plt.title(\"function p(t) v/s t\")\n",
    "plt.xlabel(\"t\")\n",
    "plt.ylabel(\"p(t)\")\n",
    "plt.show()"
   ]
  },
  {
   "cell_type": "markdown",
   "metadata": {},
   "source": [
    "### Implicit Euler Method\n",
    "\n",
    "Newtons Method is used to solve the equation $G\\Big (Y(t),Y(t+\\Delta t)\\Big)=0$ to get $ Y(t+\\Delta t) $"
   ]
  },
  {
   "cell_type": "code",
   "execution_count": null,
   "metadata": {
    "collapsed": true
   },
   "outputs": [],
   "source": [
    "def NewtonImplicitEuler(y,dt):\n",
    "    error=1\n",
    "    \n",
    "    old=y# initial guess\n",
    "    \n",
    "    while(abs(error)>10**-4):\n",
    "        new=old-(10*old-10*y-dt*(70*old-7*old**2))/(10-dt*(56-14*y))\n",
    "        ##x_{n+1}=x_{n}-G(X)/G'(X)\n",
    "        \n",
    "        error=old-new\n",
    "        old=new\n",
    "        \n",
    "    \n",
    "    return old"
   ]
  },
  {
   "cell_type": "code",
   "execution_count": null,
   "metadata": {
    "collapsed": true
   },
   "outputs": [],
   "source": [
    "def ImplicitEuler(y0,dt,tend):\n",
    "    y=np.zeros(int(tend/dt))\n",
    "    \n",
    "    y[0]=y0\n",
    "    \n",
    "    for i in range(int(tend/dt)-1):\n",
    "        y[i+1]=NewtonImplicitEuler(y[i],dt)\n",
    "        \n",
    "    return y"
   ]
  },
  {
   "cell_type": "code",
   "execution_count": null,
   "metadata": {
    "collapsed": true
   },
   "outputs": [],
   "source": [
    "#dict to store all result\n",
    "p_imp={}\n",
    "\n",
    "#do all calculation for all time steps\n",
    "for dt in dt_all:\n",
    "    p_imp[dt]=ImplicitEuler(p0,dt,tend)"
   ]
  },
  {
   "cell_type": "code",
   "execution_count": null,
   "metadata": {
    "collapsed": false
   },
   "outputs": [],
   "source": [
    "plotter_imp(p_imp,dt_all,tend,'Implicit Euler Method')"
   ]
  },
  {
   "cell_type": "markdown",
   "metadata": {},
   "source": [
    "### Compare Explicit Euler v/s Implicit Euler\n",
    "\n",
    "In this section you will see why the implicit methods are important. We will use both explicit and implicit method for the \"stiff problem\" for a large time step, dt=1/2."
   ]
  },
  {
   "cell_type": "code",
   "execution_count": null,
   "metadata": {
    "collapsed": true
   },
   "outputs": [],
   "source": [
    "def ExplicitEuler(y0,dt,tend):\n",
    "    y=np.zeros(int(tend/dt))\n",
    "    y[0]=y0\n",
    "    ### ToDo: Test Your Self\n",
    "    \n",
    "    return y"
   ]
  },
  {
   "cell_type": "code",
   "execution_count": null,
   "metadata": {
    "collapsed": false
   },
   "outputs": [],
   "source": [
    "p_exp=ExplicitEuler(p0,dt_all[0],tend)"
   ]
  },
  {
   "cell_type": "code",
   "execution_count": null,
   "metadata": {
    "collapsed": false
   },
   "outputs": [],
   "source": [
    "plt.figure()\n",
    "\n",
    "##subplot for implicit\n",
    "dt=1/2\n",
    "dt=dt_all[0]\n",
    "\n",
    "t = np.arange(0,tend,dt)\n",
    "tip = np.arange(0,tend,dt_all[-1])\n",
    "p = 200/(20-(10*np.exp(-7*tip)))\n",
    "plt.title(\"function p(t) v/s t for dt=\"+str(dt))\n",
    "plt.xlabel(\"t\")\n",
    "plt.ylabel(\"p(t)\")\n",
    "handle1,=plt.plot(tip,p,'b',label='Analytic Soln')\n",
    "handle2,=plt.plot(t,p_imp[dt],'r',label='Implicit Euler')\n",
    "handle3,=plt.plot(t,p_exp,'g',label='Explicit Euler')\n",
    "plt.legend(handles=[handle1,handle2,handle3])\n",
    "\n",
    "plt.show()"
   ]
  },
  {
   "cell_type": "markdown",
   "metadata": {},
   "source": [
    "### Adams-Moulton Method\n",
    "\n",
    "Adam Moulton is a Multi step Implicit Methods which belong to a family of Linear MultiStep Method called \"[Adams Family](https://arxiv.org/pdf/0810.4965.pdf)\".\n",
    "\n",
    "As opposed to one-step methods, which only utilize one previous value of the\n",
    "numerical solution to approximate the subsequent value, multistep methods approximate\n",
    "numerical values of the solution by referring to more than one previous value.\n",
    "Accordingly, multistep methods may often achieve greater accuracy than one-step\n",
    "methods that use the same number of function evaluations, since they utilize more\n",
    "information about the known portion of the solution than one-step methods do.\n",
    "\n",
    "Linear multi-step methods, where\n",
    "the numerical solution to the ODE at a specific location is expressed as a linear\n",
    "combination of the numerical solution’s values and the function’s values at previous\n",
    "points. \n"
   ]
  },
  {
   "cell_type": "code",
   "execution_count": null,
   "metadata": {
    "collapsed": true
   },
   "outputs": [],
   "source": [
    "def f(y):\n",
    "    return 7*(1-y/10)*y"
   ]
  },
  {
   "cell_type": "markdown",
   "metadata": {},
   "source": [
    "**NOTE:** \n",
    "Previously while using Newton Method for implicit Euler we had exclusively calculated the $G'(x)$, now we will use a small trick.\n",
    "\n",
    "The Trick being-\n",
    "<p style=\"text-align: center;\">$G'(x)=\\frac{G(x+\\epsilon)-G(x-\\epsilon)}{2\\epsilon}$</p>"
   ]
  },
  {
   "cell_type": "code",
   "execution_count": null,
   "metadata": {
    "collapsed": true
   },
   "outputs": [],
   "source": [
    "eps=np.finfo(float).eps\n",
    "def NewtonAM(y,dt):\n",
    "    error=1\n",
    "    \n",
    "    old=y/3# initial guess\n",
    "    \n",
    "    while(abs(error)>10**-4):\n",
    "        new=old-(old-y-dt*0.5*(f(y)+f(old)))/(1-dt*0.5*(f(y+eps)-f(y-eps)-f(old-eps)+f(old+eps))/(2*eps))\n",
    "        ##x_{n+1}=x_{n}-G(X)/G'(X)\n",
    "        \n",
    "        error=old-new\n",
    "        old=new\n",
    "\n",
    "    \n",
    "    return old"
   ]
  },
  {
   "cell_type": "code",
   "execution_count": null,
   "metadata": {
    "collapsed": true
   },
   "outputs": [],
   "source": [
    "def AdamMoulton(y0,dt,tend):\n",
    "    y=np.zeros(int(tend/dt))\n",
    "    \n",
    "    y[0]=y0\n",
    "    \n",
    "    for i in range(int(tend/dt)-1):\n",
    "        y[i+1]=NewtonAM(y[i],dt)\n",
    "        \n",
    "    return y"
   ]
  },
  {
   "cell_type": "code",
   "execution_count": null,
   "metadata": {
    "collapsed": false
   },
   "outputs": [],
   "source": [
    "#dict to store all result\n",
    "p_am={}\n",
    "\n",
    "#do all calculation for all time steps\n",
    "for dt in dt_all:\n",
    "    p_am[dt]=AdamMoulton(p0,dt,tend)"
   ]
  },
  {
   "cell_type": "code",
   "execution_count": null,
   "metadata": {
    "collapsed": false
   },
   "outputs": [],
   "source": [
    "plotter_imp(p_am,dt_all,tend,'Adams Moulton Method')"
   ]
  },
  {
   "cell_type": "markdown",
   "metadata": {},
   "source": [
    "### Why the graphs dont look good?\n",
    "\n",
    "AM methods using more than one step tend to have smaller regions\n",
    "of absolute stability than other implicit methods such as Runge-Kutta methods (in\n",
    "fact, they tend to be bounded, which often defeats the purpose of using an implicit\n",
    "scheme)."
   ]
  },
  {
   "cell_type": "code",
   "execution_count": null,
   "metadata": {
    "collapsed": false
   },
   "outputs": [],
   "source": [
    "print(p_am[1/2])"
   ]
  },
  {
   "cell_type": "code",
   "execution_count": null,
   "metadata": {
    "collapsed": false
   },
   "outputs": [],
   "source": [
    "print(p_am[1/4])"
   ]
  },
  {
   "cell_type": "code",
   "execution_count": null,
   "metadata": {
    "collapsed": false
   },
   "outputs": [],
   "source": [
    "print(p_am[1/8])"
   ]
  },
  {
   "cell_type": "code",
   "execution_count": null,
   "metadata": {
    "collapsed": false
   },
   "outputs": [],
   "source": [
    "print(p_am[1/16])"
   ]
  },
  {
   "cell_type": "markdown",
   "metadata": {},
   "source": [
    "### Compare Explicit Euler v/s Implicit Euler v/s Adam moulton"
   ]
  },
  {
   "cell_type": "code",
   "execution_count": null,
   "metadata": {
    "collapsed": false
   },
   "outputs": [],
   "source": [
    "plt.figure()\n",
    "\n",
    "##subplot for implicitdt=1/2\n",
    "dt=dt_all[0]\n",
    "\n",
    "t = np.arange(0,tend,dt)\n",
    "tip = np.arange(0,tend,dt_all[-1])\n",
    "p = 200/(20-(10*np.exp(-7*tip)))\n",
    "plt.title(\"function p(t) v/s t for dt=\"+str(dt))\n",
    "plt.xlabel(\"t\")\n",
    "plt.ylabel(\"p(t)\")\n",
    "handle1,=plt.plot(tip,p,label='Analytic Soln')\n",
    "handle2,=plt.plot(t,p_imp[dt],label='Implicit Euler')\n",
    "handle3,=plt.plot(t,p_exp,label='Explicit Euler')\n",
    "handle4,=plt.plot(t,p_am[dt],label='AM Method')\n",
    "plt.legend(handles=[handle1,handle2,handle3,handle4])\n",
    "\n",
    "plt.show()"
   ]
  },
  {
   "cell_type": "code",
   "execution_count": null,
   "metadata": {
    "collapsed": true
   },
   "outputs": [],
   "source": []
  }
 ],
 "metadata": {
  "kernelspec": {
   "display_name": "Python 3",
   "language": "python",
   "name": "python3"
  },
  "language_info": {
   "codemirror_mode": {
    "name": "ipython",
    "version": 3
   },
   "file_extension": ".py",
   "mimetype": "text/x-python",
   "name": "python",
   "nbconvert_exporter": "python",
   "pygments_lexer": "ipython3",
   "version": "3.6.0"
  }
 },
 "nbformat": 4,
 "nbformat_minor": 2
}
