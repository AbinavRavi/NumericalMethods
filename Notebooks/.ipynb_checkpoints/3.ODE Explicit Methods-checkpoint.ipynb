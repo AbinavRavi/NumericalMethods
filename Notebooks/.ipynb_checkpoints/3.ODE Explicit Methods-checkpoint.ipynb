{
 "cells": [
  {
   "cell_type": "markdown",
   "metadata": {},
   "source": [
    "# ODE's using Explicit Method "
   ]
  },
  {
   "cell_type": "markdown",
   "metadata": {},
   "source": [
    "writen by Abinav R (abinav.ravi@tum.de)\n",
    "\n",
    "In this session we would use Explicit methods to solve ODE. Some of the ODE methods that we would see are Explicit Euler method, Heun Method and Runge-Kutta Method (4th order). "
   ]
  },
  {
   "cell_type": "markdown",
   "metadata": {},
   "source": [
    "## Introduction\n",
    "We examine the following ordinary differential equation describing the dynamics of the\n",
    "population of a certain species:\n",
    "\n",
    "<p style=\"text-align: center;\">$ dp/dt = (1-(p/10))*p$</p>\n",
    "\n",
    "with initial condition p(0) = 1\n",
    "\n",
    "the analytical solution is given by\n",
    "\n",
    "<p style=\"text-align: center;\">$p(t) = 10/(1+9*exp(-t))$</p>\n",
    "\n",
    "So we will solve the above differential equation by three Explicit Numerical Methods and get the error between solution of numerical method and the exact solution."
   ]
  },
  {
   "cell_type": "code",
   "execution_count": null,
   "metadata": {
    "collapsed": false
   },
   "outputs": [],
   "source": [
    "#import the required modules\n",
    "%matplotlib notebook\n",
    "import numpy as np\n",
    "import matplotlib.pyplot as plt\n",
    "from Plotter import *"
   ]
  },
  {
   "cell_type": "code",
   "execution_count": null,
   "metadata": {
    "collapsed": true
   },
   "outputs": [],
   "source": [
    "##Specify start stop and step of time\n",
    "tstart=0\n",
    "tend=5\n",
    "\n",
    "dt_all=[1/2, 1/4, 1/8,1/16]# dt \n",
    "\n",
    "#initial condition\n",
    "p0=1"
   ]
  },
  {
   "cell_type": "code",
   "execution_count": null,
   "metadata": {
    "collapsed": false
   },
   "outputs": [],
   "source": [
    "# Lets Visualise the analytical solution\n",
    "\n",
    "plt.figure()\n",
    "dt=dt_all[0]\n",
    "t = np.arange(0,tend,dt)\n",
    "p_a = 10/(1+(9*np.exp(-t)))\n",
    "plt.plot(t,p_a,'r')\n",
    "plt.title(\"plot of function p(t) against time t\")\n",
    "plt.xlabel(\"time t\")\n",
    "plt.ylabel(\"p(t)\")\n",
    "plt.show()   \n",
    "    "
   ]
  },
  {
   "cell_type": "code",
   "execution_count": null,
   "metadata": {
    "collapsed": true
   },
   "outputs": [],
   "source": [
    "#defining the function\n",
    "def f(p):\n",
    "    return p*(1-(p/10))"
   ]
  },
  {
   "cell_type": "markdown",
   "metadata": {},
   "source": [
    "## Explicit Euler Method\n",
    "\n",
    "Solve $Y(t+\\Delta t)=G (Y(t))$ to get $ Y(t+\\Delta t) $"
   ]
  },
  {
   "cell_type": "code",
   "execution_count": null,
   "metadata": {
    "collapsed": true
   },
   "outputs": [],
   "source": [
    "def ExplicitEuler(y0,dt,tend):\n",
    "    #Initialisation of the array required (good practice)\n",
    "    y=np.zeros(int(tend/dt))\n",
    "    \n",
    "    y[0]=y0\n",
    "    \n",
    "    for i in range(int(tend/dt)-1):\n",
    "        y[i+1]=y[i]+dt*f(y[i])\n",
    "    #print(y)    \n",
    "    return y"
   ]
  },
  {
   "cell_type": "code",
   "execution_count": null,
   "metadata": {
    "collapsed": false
   },
   "outputs": [],
   "source": [
    "#dict to store all result\n",
    "p_exp={}\n",
    "\n",
    "#do all calculation for all time steps\n",
    "for dt in dt_all:\n",
    "    p_exp[dt]=ExplicitEuler(p0,dt,tend)"
   ]
  },
  {
   "cell_type": "code",
   "execution_count": null,
   "metadata": {
    "collapsed": false
   },
   "outputs": [],
   "source": [
    "plotter_exp(p_exp,dt_all,tend,'Explicit Euler')"
   ]
  },
  {
   "cell_type": "markdown",
   "metadata": {},
   "source": [
    "# Heun Method "
   ]
  },
  {
   "cell_type": "code",
   "execution_count": null,
   "metadata": {
    "collapsed": true
   },
   "outputs": [],
   "source": [
    "def HeunMethod(y0,dt,tEnd):\n",
    "    #Initialisation of the array required (good practice)\n",
    "    y=np.zeros(int(tend/dt))\n",
    "    \n",
    "    y[0]=y0\n",
    "    \n",
    "    for i in range(int(tend/dt)-1):\n",
    "        y[i+1]=y[i]+0.5*dt*(f(y[i])+f(y[i]+dt*f(y[i])))\n",
    "    #print(y)    \n",
    "    return y"
   ]
  },
  {
   "cell_type": "code",
   "execution_count": null,
   "metadata": {
    "collapsed": false
   },
   "outputs": [],
   "source": [
    "#dict to store all result\n",
    "p_heun={}\n",
    "\n",
    "#do all calculation for all time steps\n",
    "for dt in dt_all:\n",
    "    p_heun[dt]=HeunMethod(p0,dt,tend)"
   ]
  },
  {
   "cell_type": "code",
   "execution_count": null,
   "metadata": {
    "collapsed": false
   },
   "outputs": [],
   "source": [
    "plotter_exp(p_heun,dt_all,tend,'Heun Method')"
   ]
  },
  {
   "cell_type": "markdown",
   "metadata": {},
   "source": [
    "# Runge Kutta "
   ]
  },
  {
   "cell_type": "code",
   "execution_count": null,
   "metadata": {
    "collapsed": true
   },
   "outputs": [],
   "source": [
    "def RungeKutta4 (y0,dt,tEnd):\n",
    "    #Initialisation of the array required (good practice)\n",
    "    y=np.zeros(int(tend/dt))\n",
    "    y[0]=y0\n",
    "    \n",
    "    #ToDo: Implement the RK4 scheme here\n",
    "    \n",
    "    return y\n"
   ]
  },
  {
   "cell_type": "code",
   "execution_count": null,
   "metadata": {
    "collapsed": false
   },
   "outputs": [],
   "source": [
    "#dict to store all result\n",
    "p_RK4={}\n",
    "\n",
    "#do all calculation for all time steps\n",
    "for dt in dt_all:\n",
    "    p_RK4[dt]=RungeKutta4(p0,dt,tend)"
   ]
  },
  {
   "cell_type": "code",
   "execution_count": null,
   "metadata": {
    "collapsed": false
   },
   "outputs": [],
   "source": [
    "plotter_exp(p_RK4,dt_all,tend,'RK4')"
   ]
  }
 ],
 "metadata": {
  "kernelspec": {
   "display_name": "Python 3",
   "language": "python",
   "name": "python3"
  },
  "language_info": {
   "codemirror_mode": {
    "name": "ipython",
    "version": 3
   },
   "file_extension": ".py",
   "mimetype": "text/x-python",
   "name": "python",
   "nbconvert_exporter": "python",
   "pygments_lexer": "ipython3",
   "version": "3.6.0"
  }
 },
 "nbformat": 4,
 "nbformat_minor": 2
}
