{
 "cells": [
  {
   "cell_type": "markdown",
   "metadata": {},
   "source": [
    "# Stationary PDE\n"
   ]
  },
  {
   "cell_type": "markdown",
   "metadata": {},
   "source": [
    "writen by Abinav R()\n",
    "## Introduction\n",
    "The differential equation dependant on more than one independant variable is known as partial differential equation. Now we consider the Stationary heat Equation as an example\n",
    "\n",
    "<p style=\"text-align: center;\">$T_{xx}+T_{yy} = -2\\pi^2sin(\\pi x)sin(\\pi y)$</p>\n",
    "\n",
    "on a unit square domain ]0:1[$^2$ with the temperature T(x,y) and homogeneous Dirichlet Boundary Conditions.\n",
    "\n",
    "<p style=\"text-align: center;\">$T(x,y) = 0$ for all (x,y) in $\\partial$]0:1[$^2$</p>\n",
    "The boundary value problem has an analytical solution \n",
    "\n",
    "<p style=\"text-align: center;\">$T(x,y) = 2\\pi sin(\\pi x) sin (\\pi y)$</p>\n",
    "\n",
    "Implement a finite second order discretisation and solve the discretisation through a gauss seidel solver. Let the matrix be of dimension $N+2*N+2$ where N is the number of cells"
   ]
  },
  {
   "cell_type": "code",
   "execution_count": 24,
   "metadata": {
    "collapsed": true
   },
   "outputs": [],
   "source": [
    "#import the required modules\n",
    "%matplotlib notebook\n",
    "import numpy as np\n",
    "import matplotlib.pyplot as plt\n",
    "from scipy import sparse as sp\n",
    "from mpl_toolkits.mplot3d import Axes3D\n"
   ]
  },
  {
   "cell_type": "markdown",
   "metadata": {},
   "source": [
    "We will now write 2 functions and compare the evaluation of a full matrix and sparse matrix for the same discretisation.Nx and Ny will be the no of cell division on the x axis and y axis respectively"
   ]
  },
  {
   "cell_type": "code",
   "execution_count": 11,
   "metadata": {
    "collapsed": true
   },
   "outputs": [],
   "source": [
    "def fullmatrix(Nx,Ny):\n",
    "    A = np.zeros(shape=(Nx*Ny,Nx*Ny))\n",
    "    \n",
    "    hx = 1/(Nx+1)\n",
    "    hy = 1/(Ny+1)\n",
    "    \n",
    "    for i in range(Nx*Ny):\n",
    "        A[i,i] = -2*(1/hx^2+1/hy^2)\n",
    "        \n",
    "        if i<= Nx:\n",
    "            A[i,i+Nx] = 1/hy^2\n",
    "        elif i >=(Ny-1)*Nx+1:\n",
    "            A[i,i-Nx] = 1/hy^2\n",
    "        else:\n",
    "            A[i,i+Nx] = 1/hy^2\n",
    "            A[i,i-Nx] = 1/hy^2\n",
    "            \n",
    "        if np.mod(i,Nx) == 1:\n",
    "            A[i,i+1] = 1/hx^2\n",
    "        elif np.mod(i,Nx) == 0:\n",
    "            A[i,i-1] = 1/hx^2\n",
    "        else:\n",
    "            A[i,i+1] = 1/hx^2\n",
    "            A[i,i-1] = 1/hx^2\n",
    "            \n",
    "            \n",
    "            \n",
    "    "
   ]
  },
  {
   "cell_type": "code",
   "execution_count": 12,
   "metadata": {
    "collapsed": true
   },
   "outputs": [],
   "source": [
    "# TO DO find an equivalency of Sparse(A) in Matlab"
   ]
  },
  {
   "cell_type": "code",
   "execution_count": 23,
   "metadata": {
    "collapsed": true
   },
   "outputs": [],
   "source": [
    "#gauss seidel solver. we use a stencil method here instead of the matrix form\n",
    "\n",
    "def GaussSeidel(b,Nx,Ny):\n",
    "    x = np.zeros(shape = (Ny+2,Nx+2))\n",
    "    x[1,:] = 0\n",
    "    x[Ny+2,:] = 0\n",
    "    x[:,1] = 0\n",
    "    x[:,Nx+2] = 0\n",
    "    \n",
    "    hx = 1/(Nx+1)\n",
    "    hy = 1/(Ny+1)\n",
    "    \n",
    "    res = 1.0\n",
    "    n = 0.0\n",
    "    \n",
    "    while (res>1e-5 and n<1e5):\n",
    "        \n",
    "        for i in range(1,Ny+1):\n",
    "            for j in range(1,Nx+1):\n",
    "                x[i,j] = (b[i,j]-(x[i,j-1]/hy^2)-(x[i-1,j]/hx^2)-(x[i+1,j]/hx^2)-(x[i,j+1]/hy^2))/(-2*(1/hx^2+1/hy^2))\n",
    "        \n",
    "        res = 0\n",
    "        for i in range(1,Ny+1):\n",
    "            for j in range(1,Nx+1):\n",
    "                res = res+(b[i,j] - (x[i,j-1]/hy^2) - (x[i-1,j]/hx^2)+ (x[i,j])*2*(1/hx^2+1/hy^2))\n",
    "        \n",
    "                           \n",
    "        res = np.sqrt(res/(Nx*Ny))\n",
    "        n += 1                          \n"
   ]
  },
  {
   "cell_type": "code",
   "execution_count": null,
   "metadata": {
    "collapsed": true
   },
   "outputs": [],
   "source": [
    "#TO DO Plot a surface plot in 3d"
   ]
  }
 ],
 "metadata": {
  "kernelspec": {
   "display_name": "Python 3",
   "language": "python",
   "name": "python3"
  },
  "language_info": {
   "codemirror_mode": {
    "name": "ipython",
    "version": 3
   },
   "file_extension": ".py",
   "mimetype": "text/x-python",
   "name": "python",
   "nbconvert_exporter": "python",
   "pygments_lexer": "ipython3",
   "version": "3.6.3"
  }
 },
 "nbformat": 4,
 "nbformat_minor": 2
}
