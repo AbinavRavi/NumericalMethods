{
 "cells": [
  {
   "cell_type": "markdown",
   "metadata": {},
   "source": [
    "# Transient Partial Differential Equation\n",
    "writen by Abhijeet Parida(a_parida@outlook.com)\n",
    "## Introduction\n",
    "\n",
    "Partial differential equations ([PDEs](https://en.wikipedia.org/wiki/Partial_differential_equation))are equations that involve rates of change with respect to continuous variables. Classic domains where PDEs are used include acoustics, fluid dynamics, electrodynamics, and heat transfer.\n",
    "\n",
    "Now, we generalize to the instationary heat equation\n",
    "\n",
    "<p style=\"text-align: center;\"> $T_t = T_{xx} + T_{yy}$ </p>\n",
    "on the unit square $]0; 1[^2$ with the temperature T, the two-dimensional coordinates x and y, the time t, homogeneous Dirichlet boundary conditions\n",
    "<p style=\"text-align: center;\"> $T(x, y, t) = 0$  forall $(x, y)$ in $ ∂]0; 1[^2$; $t$ in $]0; ∞[$</p>\n",
    "and\n",
    "<p style=\"text-align: center;\">$T(x, y, 0) = 1.0$ forall $(x, y)$ in $]0; 1[^2$</p>\n",
    "as initial condition.\n",
    "\n",
    "\n",
    "For the spatial discretization, we again use the grid points\n",
    "$ \\{(x_i, y_j ) = (i ·\\frac{1}{h_x}, j ·\\frac{1}{h_y}) \t\\forall i = 0, 1, . . . , N_x, N_x + 1; j = 0, 1, . . . , Ny, Ny + 1\\}$\n",
    "\n",
    "\n",
    "and the finite difference approximation of the second derivatives\n",
    "<p style=\"text-align: center;\">$T_{xx|i,j}\\approx \\frac{T_{i−1,j} − 2T_{i,j} + T_{i+1,j}}{h_x^2}$</p>\n",
    "and\n",
    "<p style=\"text-align: center;\">$T_{yy|i,j}\\approx \\frac{T_{i,j-1} − 2T_{i,j} + T_{i,j+1}}{h_y^2}$</p>\n",
    "for $i = 1, . . . , N_x$, $j = 1, . . . , N_y$ with $h_x =\\frac{1}{N_x+1}$ and $h_y =\\frac{1}{N_y+1}$"
   ]
  },
  {
   "cell_type": "code",
   "execution_count": null,
   "metadata": {
    "collapsed": true
   },
   "outputs": [],
   "source": [
    "%matplotlib notebook\n",
    "import numpy as np\n",
    "import matplotlib.pyplot as plt\n",
    "from mpl_toolkits.mplot3d import Axes3D\n"
   ]
  },
  {
   "cell_type": "code",
   "execution_count": null,
   "metadata": {
    "collapsed": true
   },
   "outputs": [],
   "source": [
    "#Boundary of the PDE \n",
    "left=0\n",
    "right= 1\n",
    "\n",
    "down=0\n",
    "up= 1"
   ]
  },
  {
   "cell_type": "code",
   "execution_count": null,
   "metadata": {
    "collapsed": true
   },
   "outputs": [],
   "source": [
    "N =[3,7,31] # number of division for x\n",
    "dt_all=[1/64, 1/128, 1/2048, 1/4096]# dt \n"
   ]
  },
  {
   "cell_type": "code",
   "execution_count": null,
   "metadata": {
    "collapsed": true
   },
   "outputs": [],
   "source": [
    "#initial Condition\n",
    "T=np.zeros((N[-1]+2,N[-1]+2))\n",
    "T[1:N[-1]+1,1:N[-1]+1]=1\n",
    "#T"
   ]
  },
  {
   "cell_type": "code",
   "execution_count": null,
   "metadata": {
    "collapsed": true
   },
   "outputs": [],
   "source": [
    "fig = plt.figure()\n",
    "ax = Axes3D(fig)\n",
    "dx = (right-left) / (N[-1]+2)\n",
    "x = np.arange(left, right, dx)\n",
    "y = np.arange(down, up, dx)\n",
    "X, Y = np.meshgrid(x, y)\n",
    "\n",
    "\n",
    "plt.title('Problem at time, t=0')\n",
    "ax.set_xlabel('X-axis')\n",
    "ax.set_ylabel('Y-axis')\n",
    "ax.set_zlabel('Temperature')\n",
    "\n",
    "surf=ax.plot_surface(X,Y,T,rstride=1, cstride=1, antialiased=True)\n",
    "\n",
    "plt.show()"
   ]
  },
  {
   "cell_type": "markdown",
   "metadata": {},
   "source": [
    "## Von Nuemann Stability Analysis\n",
    "\n",
    "In numerical analysis, [von Neumann stability analysis](https://en.wikipedia.org/wiki/Von_Neumann_stability_analysis) is a procedure used to check the stability of finite difference schemes as applied to linear partial differential equations."
   ]
  },
  {
   "cell_type": "code",
   "execution_count": null,
   "metadata": {
    "collapsed": true
   },
   "outputs": [],
   "source": [
    "for Nx in N:\n",
    "    for dt in dt_all:\n",
    "        dx = (right-left) / (Nx+1)\n",
    "    \n",
    "        if (dt > 0.5*dx*dx):\n",
    "            print(\"STABLE  : Explicit Method for Nx=\"+str(Nx)+\" & dt=\"+str(dt))\n",
    "        else:\n",
    "            print(\"UNSTABLE: Explicit Method for Nx=\"+str(Nx)+\" & dt=\"+str(dt))"
   ]
  },
  {
   "cell_type": "code",
   "execution_count": null,
   "metadata": {
    "collapsed": true
   },
   "outputs": [],
   "source": [
    "#########################Variables to Store Values only################\n",
    "def SetupValues():\n",
    "    explicit={}\n",
    "    implicit={}  \n",
    "    for Nx in N:\n",
    "        explicit[Nx]={}\n",
    "        implicit[Nx]={}\n",
    "        for dt in dt_all:\n",
    "            explicit[Nx][dt]=list()\n",
    "            implicit[Nx][dt]=list()\n",
    "    return explicit, implicit\n",
    "#####################################################################"
   ]
  },
  {
   "cell_type": "markdown",
   "metadata": {
    "collapsed": true
   },
   "source": [
    "## Explicit Time Stepping\n",
    "This function is used to solve the finite difference discreditised matrix using an explicit euler formulation."
   ]
  },
  {
   "cell_type": "code",
   "execution_count": null,
   "metadata": {
    "collapsed": true
   },
   "outputs": [],
   "source": [
    "def explicitEuler(Nx,Tin,dt,dx):\n",
    "    \n",
    "    tau =dt/(dx*dx)\n",
    "    Tnew=Tin\n",
    "    Told=Tin\n",
    "    explicit_=[]\n",
    "    \n",
    "    for i in range(int(0.5/dt)):\n",
    "        explicit_.append(Told.copy())\n",
    "        \n",
    "        for x in range(1,Nx+1):\n",
    "            for y in range(1,Nx+1):\n",
    "                Tnew[x,y]= Told[x,y]+  tau*( Told[x-1,y]+Told[x+1,y]+Told[x,y+1]+Told[x,y-1]-4*Told[x,y] )\n",
    "\n",
    "        Told=Tnew\n",
    "    return explicit_.copy()\n"
   ]
  },
  {
   "cell_type": "code",
   "execution_count": null,
   "metadata": {
    "collapsed": true
   },
   "outputs": [],
   "source": [
    "explicit,implicit=SetupValues()\n",
    "for Nx in N:\n",
    "    T=np.zeros((Nx+2,Nx+2))\n",
    "    T[1:Nx+1,1:Nx+1]=1\n",
    "    dx = (right-left) / (Nx+1)\n",
    "    \n",
    "    for dt in dt_all:\n",
    "        explicit[Nx][dt]=explicitEuler(Nx,T.copy(),dt,dx)\n",
    "        "
   ]
  },
  {
   "cell_type": "code",
   "execution_count": null,
   "metadata": {
    "collapsed": true
   },
   "outputs": [],
   "source": [
    "#Set Values to be visuaised here\n",
    "NValue=31\n",
    "step=0\n",
    "dtValue=0.015625\n",
    "#########Visualisation############\n",
    "figimp = plt.figure()\n",
    "ax = Axes3D(figimp)\n",
    "dx = (right-left) / (NValue+2)\n",
    "x = np.arange(left, right, dx)\n",
    "y = np.arange(down, up, dx)\n",
    "X, Y = np.meshgrid(x, y)\n",
    "\n",
    "\n",
    "plt.title('Problem at timestep='+str(step)+',  for dt='+str(dtValue)+' N='+str(Nx))\n",
    "ax.set_xlabel('X-axis')\n",
    "ax.set_ylabel('Y-axis')\n",
    "ax.set_zlabel('Temperature')\n",
    "surf=ax.plot_surface(X,Y,explicit[NValue][dtValue][step],rstride=1, cstride=1, antialiased=True)\n",
    "plt.show()"
   ]
  },
  {
   "cell_type": "markdown",
   "metadata": {},
   "source": [
    "## Implicit Time Stepping"
   ]
  },
  {
   "cell_type": "code",
   "execution_count": null,
   "metadata": {
    "collapsed": true
   },
   "outputs": [],
   "source": [
    "def implicitEuler():\n",
    "    tau =dt/(dx*dx)\n",
    "    Tnew=Tin\n",
    "    Told=Tin\n",
    "    implicit_=[]\n",
    "    ########### ToDo: Implement the implicit time stepping scheme\n",
    "    \n",
    "    #######################################################\n",
    "    return implicit_.copy()"
   ]
  },
  {
   "cell_type": "code",
   "execution_count": null,
   "metadata": {
    "collapsed": true
   },
   "outputs": [],
   "source": [
    "explicit,implicit=SetupValues()\n",
    "for Nx in N:\n",
    "    T=np.zeros((Nx+2,Nx+2))\n",
    "    T[1:Nx+1,1:Nx+1]=1\n",
    "    dx = (right-left) / (Nx+1)\n",
    "    \n",
    "    for dt in dt_all:\n",
    "        implicit[Nx][dt]=implicitEuler(Nx,T.copy(),dt,dx)"
   ]
  },
  {
   "cell_type": "code",
   "execution_count": null,
   "metadata": {
    "collapsed": true
   },
   "outputs": [],
   "source": [
    "#Set Values to be visuaised here\n",
    "NValue=3\n",
    "step=2\n",
    "dtValue=0.015625\n",
    "#########Visualisation############\n",
    "figimp = plt.figure()\n",
    "ax = Axes3D(figimp)\n",
    "dx = (right-left) / (NValue+2)\n",
    "x = np.arange(left, right, dx)\n",
    "y = np.arange(down, up, dx)\n",
    "X, Y = np.meshgrid(x, y)\n",
    "\n",
    "\n",
    "plt.title('Problem at timestep='+str(step)+',  for dt='+str(dtValue)+' N='+str(Nx))\n",
    "ax.set_xlabel('X-axis')\n",
    "ax.set_ylabel('Y-axis')\n",
    "ax.set_zlabel('Temperature')\n",
    "surf=ax.plot_surface(X,Y,implicit[NValue][dtValue][step],rstride=1, cstride=1, antialiased=True)\n",
    "plt.show()"
   ]
  }
 ],
 "metadata": {
  "kernelspec": {
   "display_name": "Python 3",
   "language": "python",
   "name": "python3"
  },
  "language_info": {
   "codemirror_mode": {
    "name": "ipython",
    "version": 3
   },
   "file_extension": ".py",
   "mimetype": "text/x-python",
   "name": "python",
   "nbconvert_exporter": "python",
   "pygments_lexer": "ipython3",
   "version": "3.6.0"
  }
 },
 "nbformat": 4,
 "nbformat_minor": 2
}
